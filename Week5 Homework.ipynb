{
 "cells": [
  {
   "cell_type": "markdown",
   "id": "45b5dc3e",
   "metadata": {},
   "source": [
    "### Question 2"
   ]
  },
  {
   "cell_type": "markdown",
   "id": "c067426e",
   "metadata": {},
   "source": [
    "\"It is important to note that outcomes of tests refer to the population parameter, rather than the sample statistic! As such, the result that we get is for the population.\" \n",
    "In my poinr of view, this sentence means when we are runing a statistical test, we're interested in learning about the whole group we care about (the population), not just the smaller group we studied (sample).\n",
    "𝑥𝑖: represents individual values we collect from the sample (for example, the height of each person in a small group).\n",
    "𝑥: (the sample mean) is the average of all values and describes our sample.\n",
    "𝜇: (the population mean) is the true average for the entire population, which we usually can't know directly.\n",
    "𝜇0: is a specific value we’re testing against, like a benchmark or a target."
   ]
  },
  {
   "cell_type": "raw",
   "id": "244547b6",
   "metadata": {},
   "source": []
  },
  {
   "cell_type": "markdown",
   "id": "aa3e5c81",
   "metadata": {},
   "source": [
    "### Question 4"
   ]
  },
  {
   "cell_type": "markdown",
   "id": "ef320cfc",
   "metadata": {},
   "source": [
    "\"A smaller p-value makes the null hypothesis look more ridiculous.\"\n",
    "\n",
    "p > 0.1: No evidence against the null hypothesis\n",
    "0.1 >= p > 0.05: Weak evidence against the null hypothesis\n",
    "0.05 >= p > 0.01: Moderate evidence against the null hypothesis\n",
    "0.01 >= p > 0.001: Strong evidence against the null hypothesis\n",
    "0.001 >= p: Very strong evidence against the null hypothesis\n",
    "In hypothesis testing, p-value is the probability that null hypothesis is true, so small p-values indicate strong evidence against the null hypothesis(the claim that the effect being studied does not exist)."
   ]
  },
  {
   "cell_type": "raw",
   "id": "237f86c4",
   "metadata": {},
   "source": []
  },
  {
   "cell_type": "markdown",
   "id": "eeaf1cdc",
   "metadata": {},
   "source": [
    "### Question 8"
   ]
  },
  {
   "cell_type": "markdown",
   "id": "5ade37b2",
   "metadata": {},
   "source": [
    "Problem Introduction:\n",
    "1. Relationship between this experiment and the original with Fisher and Bristol\n",
    " Both are testing whether people could taste the difference, and much preferred the taste of tea when the milk was poured in afterward the tea. This experiment have a larger sample size than the original one.\n",
    "2. Statements of the Null Hypothesis and Alternative hypothesis\n",
    " H0: p=0.5 \n",
    " H1: p≠0.5\n",
    " \n",
    "Quantitative Analysis\n",
    "4.Methodology Code and Explanations\n",
    "\n",
    "import numpy as np\n",
    "from scipy.stats import norm\n",
    "\n",
    "np.random.seed(80)  # For reproducibility\n",
    "n = 80\n",
    "x = 49\n",
    "p0 = 0.5\n",
    "p_hat = x / n\n",
    "z = (p_hat - p0) / np.sqrt(p0 * (1 - p0) / n)\n",
    "p_value = 2 * (1 - norm.cdf(abs(z)))\n",
    "print(f\"Z-statistic: {z}, P-value: {p_value}\")\n",
    "\n",
    "5.(if needed/optional) Supporting Visualizations\n",
    " You could use a KDE plot of a sampling distribution of sample proportions under 𝐻0 showing where the observed proportion falls.\n",
    " \n",
    "Findings and Discussion\n",
    "6.Conclusion regarding the Null Hypothesis\n",
    " If the p-value is small (typically < 0.05), discuss rejecting 𝐻0 in favor of 𝐻1 indicating evidence that students may indeed differentiate the order."
   ]
  },
  {
   "cell_type": "code",
   "execution_count": 4,
   "id": "dfdfc34a",
   "metadata": {},
   "outputs": [
    {
     "name": "stdout",
     "output_type": "stream",
     "text": [
      "Z-statistic: 2.0124611797498115, P-value: 0.044171344908442434\n"
     ]
    }
   ],
   "source": [
    "import numpy as np\n",
    "from scipy.stats import norm\n",
    "\n",
    "np.random.seed(80)  # For reproducibility\n",
    "n = 80\n",
    "x = 49\n",
    "p0 = 0.5\n",
    "p_hat = x / n\n",
    "z = (p_hat - p0) / np.sqrt(p0 * (1 - p0) / n)\n",
    "p_value = 2 * (1 - norm.cdf(abs(z)))\n",
    "print(f\"Z-statistic: {z}, P-value: {p_value}\")"
   ]
  },
  {
   "cell_type": "markdown",
   "id": "6045272f",
   "metadata": {},
   "source": [
    "Website link of conversation between ChatBots and me:"
    "https://chatgpt.com/c/670f0a73-a3e0-8001-bd8b-28ba4ce4a06e"
    "Conversation between Chatgpt and me:"
    "In this analysis of a modern adaptation of Fisher's Tea Experiment, you’ll be testing whether STA130 students can distinguish the order of milk and tea pouring. The approach includes:"

    "1. Introduction - Describe the original experiment by Fisher and relate it to this one with STA130 students."
    "2. Hypotheses "
       "- Null Hypothesis (H0): The probability of correctly identifying the pouring order is 0.5, indicating random guessing."
       "- Alternative Hypothesis (H1): The probability differs from 0.5, suggesting an ability to differentiate."
    "3. Quantitative Analysis - Perform a Z-test for proportions using the sample of 80 students, with 49 identifying correctly."
    "4. Code & Reproducibility - Use Python to calculate the Z statistic and p-value, ensuring reproducibility with `np.random.seed()`."
    "5. Optional Visualization - Consider using a KDE plot to illustrate the sampling distribution under H0."
    "6. Findings & Conclusion - Interpret the p-value to determine if there's significant evidence to reject H0, and discuss limitations and possible next steps."
   ]
  }
 ],
 "metadata": {
  "kernelspec": {
   "display_name": "Python 3 (ipykernel)",
   "language": "python",
   "name": "python3"
  },
  "language_info": {
   "codemirror_mode": {
    "name": "ipython",
    "version": 3
   },
   "file_extension": ".py",
   "mimetype": "text/x-python",
   "name": "python",
   "nbconvert_exporter": "python",
   "pygments_lexer": "ipython3",
   "version": "3.11.6"
  }
 },
 "nbformat": 4,
 "nbformat_minor": 5
}
